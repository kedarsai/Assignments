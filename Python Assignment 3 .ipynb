{
 "cells": [
  {
   "cell_type": "markdown",
   "metadata": {},
   "source": [
    "### Problem 1\n"
   ]
  },
  {
   "cell_type": "code",
   "execution_count": 1,
   "metadata": {},
   "outputs": [
    {
     "name": "stdout",
     "output_type": "stream",
     "text": [
      "15\n",
      "15\n"
     ]
    }
   ],
   "source": [
    "\n",
    "from functools import reduce\n",
    "\n",
    "def CustomReduce(func,ip_list):\n",
    "    list_stage=ip_list.copy()\n",
    "    for i in range(len(ip_list)-1):\n",
    "        op=func(list_stage[0],list_stage[1])\n",
    "        list_stage.pop(0)\n",
    "        list_stage[0]=op\n",
    "    return list_stage[0]\n",
    "\n",
    "def sum(a,b):\n",
    "    return(a+b)\n",
    "\n",
    "print(CustomReduce(sum,[1,2,3,4,5]))\n",
    "print(reduce(sum,[1,2,3,4,5]))\n"
   ]
  },
  {
   "cell_type": "markdown",
   "metadata": {},
   "source": [
    "### Problem 2"
   ]
  },
  {
   "cell_type": "code",
   "execution_count": 2,
   "metadata": {},
   "outputs": [],
   "source": [
    "def CustomFilter(mask,lst):\n",
    "    return [lst[i] for i in range(len(lst)) if mask[i]]"
   ]
  },
  {
   "cell_type": "code",
   "execution_count": 3,
   "metadata": {},
   "outputs": [
    {
     "name": "stdout",
     "output_type": "stream",
     "text": [
      "[2, 4, 6]\n"
     ]
    }
   ],
   "source": [
    "import numpy as np\n",
    "lst=[1,2,4,5,6,7]\n",
    "lst_np=np.array(lst)\n",
    "mask=lst_np%2==0\n",
    "\n",
    "\n",
    "print(CustomFilter(mask,lst))"
   ]
  },
  {
   "cell_type": "code",
   "execution_count": null,
   "metadata": {},
   "outputs": [],
   "source": []
  }
 ],
 "metadata": {
  "kernelspec": {
   "display_name": "Python 3",
   "language": "python",
   "name": "python3"
  },
  "language_info": {
   "codemirror_mode": {
    "name": "ipython",
    "version": 3
   },
   "file_extension": ".py",
   "mimetype": "text/x-python",
   "name": "python",
   "nbconvert_exporter": "python",
   "pygments_lexer": "ipython3",
   "version": "3.7.6"
  }
 },
 "nbformat": 4,
 "nbformat_minor": 4
}
